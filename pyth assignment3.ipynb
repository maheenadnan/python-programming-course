{
 "cells": [
  {
   "cell_type": "code",
   "execution_count": 1,
   "id": "4a04b559",
   "metadata": {},
   "outputs": [
    {
     "name": "stdout",
     "output_type": "stream",
     "text": [
      "Twinkle, twinkle, little star, \n",
      "\tHow I wonder what you are! \n",
      "\t\tUp above the world so high, \n",
      "\t\tLike a diamond in the sky. \n",
      "Twinkle, twinkle, little star, \n",
      "\tHow I wonder what you are\n"
     ]
    }
   ],
   "source": [
    "\"\"\"Write a Python program to print the following string in a specific format see the\n",
    "output.\n",
    "\n",
    "Twinkle, twinkle, little star,\n",
    "How I wonder what you are!\n",
    "Up above the world so high,\n",
    "Like a diamond in the sky.\n",
    "\n",
    "Twinkle, twinkle, little star,\n",
    "How I wonder what you are\"\"\"\n",
    "\n",
    "print(\"Twinkle, twinkle, little star, \\n\\tHow I wonder what you are! \\n\\t\\tUp above the world so high, \\n\\t\\tLike a diamond in the sky. \\nTwinkle, twinkle, little star, \\n\\tHow I wonder what you are\")\n",
    "\n",
    "\n"
   ]
  },
  {
   "cell_type": "code",
   "execution_count": 2,
   "id": "c0485b53",
   "metadata": {},
   "outputs": [
    {
     "name": "stdout",
     "output_type": "stream",
     "text": [
      "3.8.8 (default, Apr 13 2021, 15:08:07) [MSC v.1916 32 bit (Intel)]\n"
     ]
    }
   ],
   "source": [
    "#Write a Python program to get the Python version you are using\n",
    "\n",
    "import sys\n",
    "print(sys.version)"
   ]
  },
  {
   "cell_type": "code",
   "execution_count": 3,
   "id": "8526e162",
   "metadata": {},
   "outputs": [
    {
     "name": "stdout",
     "output_type": "stream",
     "text": [
      "now= 2021-10-23 19:28:59.774282\n"
     ]
    }
   ],
   "source": [
    "#Write a Python program to display the current date and time.\n",
    "\n",
    "from datetime import datetime\n",
    "now=datetime.now()\n",
    "print (\"now=\",now)"
   ]
  },
  {
   "cell_type": "code",
   "execution_count": 4,
   "id": "1fcb6af2",
   "metadata": {},
   "outputs": [
    {
     "name": "stdout",
     "output_type": "stream",
     "text": [
      "Input radius of circle: 2\n",
      "the area of circle with radius 2.0 is: 12.566370614359172\n"
     ]
    }
   ],
   "source": [
    "\"\"\"Write a Python program which accepts the radius of a circle from the user and compute\n",
    "the area.\"\"\"\n",
    "\n",
    "from math import pi\n",
    "radius= float(input (\"Input radius of circle: \"))\n",
    "print (\"the area of circle with radius \" +str(radius) + \" is: \" + str(pi * radius**2))\n"
   ]
  },
  {
   "cell_type": "code",
   "execution_count": 5,
   "id": "22997154",
   "metadata": {},
   "outputs": [
    {
     "name": "stdout",
     "output_type": "stream",
     "text": [
      "Input your First Name : Maheen\n",
      "Input your Last Name : Adnan\n",
      "Adnan Maheen\n"
     ]
    }
   ],
   "source": [
    "\"\"\"Write a Python program which accepts the user's first and last name and print them in\n",
    "reverse order with a space between them.\"\"\"\n",
    "\n",
    "firstname= input(\"Input your First Name : \")\n",
    "lastname= input(\"Input your Last Name : \")\n",
    "print( lastname + \" \" + firstname)\n"
   ]
  },
  {
   "cell_type": "code",
   "execution_count": 6,
   "id": "e3e6e1ec",
   "metadata": {},
   "outputs": [
    {
     "name": "stdout",
     "output_type": "stream",
     "text": [
      "26\n"
     ]
    }
   ],
   "source": [
    "#Write a python program which takes two inputs from user and print them addition\n",
    "\n",
    "a= 17;\n",
    "b= 9;\n",
    "c= a+b;\n",
    "print (c);\n"
   ]
  },
  {
   "cell_type": "code",
   "execution_count": 9,
   "id": "553ae03c",
   "metadata": {},
   "outputs": [
    {
     "name": "stdout",
     "output_type": "stream",
     "text": [
      "Grade A+\n",
      "Total marks 500\n",
      "marks obtained 430\n"
     ]
    }
   ],
   "source": [
    "\"\"\"Write a program which takes 5 inputs from user for different subject’s marks, total it\n",
    "and generate mark sheet using grades?\"\"\"\n",
    "\n",
    "english=80;\n",
    "urdu=75;\n",
    "maths=100;\n",
    "chemistry=90;\n",
    "biology=85;\n",
    "total_marks= 500;\n",
    "\n",
    "marks_obtained= english+urdu+maths+chemistry+biology;\n",
    "percentage= (marks_obtained/total_marks)*100;\n",
    "\n",
    "if percentage < 100 and percentage > 80:\n",
    "    print(\"Grade A+\");\n",
    "elif percentage < 80 and percentage > 70:\n",
    "    print(\"Grade A\");\n",
    "elif percentage < 70 and percentage > 60:\n",
    "    print(\"Grade B\");\n",
    "elif percentage < 60 and percentage > 50:\n",
    "    print(\"Grade C\");\n",
    "elif percentage < 50 and percentage > 40:\n",
    "    print(\"Grade D\");\n",
    "elif percentage < 40 and percentage > 30:\n",
    "    print(\"Grade E\");\n",
    "else:\n",
    "    print (\"FAILED\")\n",
    "    \n",
    "print(\"Total marks\",total_marks);\n",
    "print(\"marks obtained\", marks_obtained);\n"
   ]
  },
  {
   "cell_type": "code",
   "execution_count": 16,
   "id": "23c8f8b9",
   "metadata": {},
   "outputs": [
    {
     "name": "stdout",
     "output_type": "stream",
     "text": [
      "even number\n"
     ]
    }
   ],
   "source": [
    "\"\"\"Write a program which take input from user and identify that the given number is even\n",
    "or odd?\"\"\"\n",
    "\n",
    "number=82;\n",
    "mod= number%2\n",
    "if mod>0:\n",
    "    print(\"odd number\")\n",
    "else:\n",
    "    print(\"even number\")\n"
   ]
  },
  {
   "cell_type": "code",
   "execution_count": 17,
   "id": "d90d4e0f",
   "metadata": {},
   "outputs": [
    {
     "name": "stdout",
     "output_type": "stream",
     "text": [
      "The length of list is:  5\n"
     ]
    }
   ],
   "source": [
    "#Write a program which print the length of the list?\n",
    "\n",
    "n = len([10, 15, 20, 25, 30])\n",
    "print(\"The length of list is: \", n)"
   ]
  },
  {
   "cell_type": "code",
   "execution_count": 18,
   "id": "9ccae363",
   "metadata": {},
   "outputs": [
    {
     "name": "stdout",
     "output_type": "stream",
     "text": [
      "How many numbers: 15\n",
      "Enter number 1\n",
      "Enter number 2\n",
      "Enter number 3\n",
      "Enter number 4\n",
      "Enter number 5\n",
      "Enter number 6\n",
      "Enter number 7\n",
      "Enter number 8\n",
      "Enter number 9\n",
      "Enter number 10\n",
      "Enter number 11\n",
      "Enter number 12\n",
      "Enter number 13\n",
      "Enter number 14\n",
      "Enter number 195\n",
      "Sum of elements in given list is : 300\n"
     ]
    }
   ],
   "source": [
    "#10.Write a Python program to sum all the numeric items in a list?\n",
    "\n",
    "lst = []\n",
    "num = int(input('How many numbers: '))\n",
    "for n in range(num):\n",
    "    numbers = int(input('Enter number '))\n",
    "    lst.append(numbers)\n",
    "print(\"Sum of elements in given list is :\", sum(lst))"
   ]
  },
  {
   "cell_type": "code",
   "execution_count": 31,
   "id": "fe957672",
   "metadata": {},
   "outputs": [
    {
     "name": "stdout",
     "output_type": "stream",
     "text": [
      "Largest number is: 175\n"
     ]
    }
   ],
   "source": [
    "#Write a Python program to get the largest number from a numeric list.\n",
    "\n",
    "list = [1, 35, 10, 45, 175]\n",
    "list.sort()\n",
    "print(\"Largest number is:\", list[-1])"
   ]
  },
  {
   "cell_type": "code",
   "execution_count": 44,
   "id": "ca833256",
   "metadata": {},
   "outputs": [
    {
     "name": "stdout",
     "output_type": "stream",
     "text": [
      "[1, 1, 2, 3]\n"
     ]
    }
   ],
   "source": [
    "\"\"\"12. Take a list, say for example this one:\n",
    "a = [1, 1, 2, 3, 5, 8, 13, 21, 34, 55, 89]\n",
    "Write a program that prints out all the elements of the list that are less than 5.\"\"\"\n",
    "\n",
    "a = [1, 1, 2, 3, 5, 8, 13, 21, 34, 55, 89]\n",
    "\n",
    "print  ([x for x in a if x < 5 ])"
   ]
  },
  {
   "cell_type": "code",
   "execution_count": null,
   "id": "56b18bca",
   "metadata": {},
   "outputs": [],
   "source": []
  },
  {
   "cell_type": "code",
   "execution_count": null,
   "id": "4387522f",
   "metadata": {},
   "outputs": [],
   "source": []
  }
 ],
 "metadata": {
  "kernelspec": {
   "display_name": "Python 3",
   "language": "python",
   "name": "python3"
  },
  "language_info": {
   "codemirror_mode": {
    "name": "ipython",
    "version": 3
   },
   "file_extension": ".py",
   "mimetype": "text/x-python",
   "name": "python",
   "nbconvert_exporter": "python",
   "pygments_lexer": "ipython3",
   "version": "3.8.8"
  }
 },
 "nbformat": 4,
 "nbformat_minor": 5
}
